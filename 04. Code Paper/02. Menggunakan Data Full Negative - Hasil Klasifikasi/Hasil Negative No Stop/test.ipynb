{
 "cells": [
  {
   "cell_type": "code",
   "execution_count": 2,
   "metadata": {},
   "outputs": [
    {
     "name": "stdout",
     "output_type": "stream",
     "text": [
      "Accuracy: 88.86%\n",
      "Precision: 100.00%\n",
      "Recall: 88.86%\n",
      "F1-score: 94.10%\n"
     ]
    },
    {
     "name": "stderr",
     "output_type": "stream",
     "text": [
      "c:\\Users\\irfan\\AppData\\Local\\Programs\\Python\\Python311\\Lib\\site-packages\\sklearn\\metrics\\_classification.py:1344: UndefinedMetricWarning: Recall is ill-defined and being set to 0.0 in labels with no true samples. Use `zero_division` parameter to control this behavior.\n",
      "  _warn_prf(average, modifier, msg_start, len(result))\n"
     ]
    }
   ],
   "source": [
    "import pandas as pd\n",
    "from sklearn.metrics import accuracy_score, precision_score, recall_score, f1_score\n",
    "\n",
    "# Fungsi untuk membaca file CSV dan menghitung metrik evaluasi\n",
    "def calculate_metrics_from_csv(file_path):\n",
    "    # Baca data dari file CSV\n",
    "    data = pd.read_csv(file_path)\n",
    "    \n",
    "    # Asumsi kolom label asli bernama 'label' dan kolom label prediksi bernama 'polarity'\n",
    "    actual = data['label']\n",
    "    predicted = data['polarity']\n",
    "    \n",
    "    # Hitung metrik evaluasi\n",
    "    accuracy = accuracy_score(actual, predicted) * 100\n",
    "    precision = precision_score(actual, predicted, average='weighted') * 100\n",
    "    recall = recall_score(actual, predicted, average='weighted') * 100\n",
    "    f1 = f1_score(actual, predicted, average='weighted') * 100\n",
    "    \n",
    "    return accuracy, precision, recall, f1\n",
    "\n",
    "# Path ke file CSV\n",
    "file_path = './hasil2stem/Hasil_tweets_negative01.csv'\n",
    "\n",
    "# Hitung metrik evaluasi dari file CSV\n",
    "accuracy, precision, recall, f1 = calculate_metrics_from_csv(file_path)\n",
    "\n",
    "print(f\"Accuracy: {accuracy:.2f}%\")\n",
    "print(f\"Precision: {precision:.2f}%\")\n",
    "print(f\"Recall: {recall:.2f}%\")\n",
    "print(f\"F1-score: {f1:.2f}%\")\n"
   ]
  },
  {
   "cell_type": "code",
   "execution_count": 3,
   "metadata": {},
   "outputs": [
    {
     "name": "stdout",
     "output_type": "stream",
     "text": [
      "Accuracy: 88.86%\n",
      "Precision: 100.00%\n",
      "Recall: 88.86%\n",
      "F1-score: 94.10%\n"
     ]
    }
   ],
   "source": [
    "import pandas as pd\n",
    "\n",
    "# Fungsi untuk membaca file CSV dan menghitung metrik evaluasi\n",
    "def calculate_metrics_from_csv(file_path):\n",
    "    # Baca data dari file CSV\n",
    "    data = pd.read_csv(file_path)\n",
    "    \n",
    "    # Asumsi kolom label asli bernama 'label' dan kolom label prediksi bernama 'polarity'\n",
    "    actual = data['label']\n",
    "    predicted = data['polarity']\n",
    "    \n",
    "    # Menghitung TP, FP, TN, FN untuk setiap kelas\n",
    "    classes = actual.unique()\n",
    "    metrics = {}\n",
    "\n",
    "    total_TP = total_FP = total_TN = total_FN = 0\n",
    "    \n",
    "    for cls in classes:\n",
    "        TP = sum((actual == cls) & (predicted == cls))\n",
    "        FP = sum((actual != cls) & (predicted == cls))\n",
    "        TN = sum((actual != cls) & (predicted != cls))\n",
    "        FN = sum((actual == cls) & (predicted != cls))\n",
    "        \n",
    "        total_TP += TP\n",
    "        total_FP += FP\n",
    "        total_TN += TN\n",
    "        total_FN += FN\n",
    "        \n",
    "        # Precision\n",
    "        precision = TP / (TP + FP) * 100 if (TP + FP) > 0 else 0\n",
    "        \n",
    "        # Recall\n",
    "        recall = TP / (TP + FN) * 100 if (TP + FN) > 0 else 0\n",
    "        \n",
    "        # F1 Score\n",
    "        f1 = (2 * precision * recall) / (precision + recall) if (precision + recall) > 0 else 0\n",
    "        \n",
    "        metrics[cls] = {\n",
    "            'Precision': precision,\n",
    "            'Recall': recall,\n",
    "            'F1-score': f1\n",
    "        }\n",
    "    \n",
    "    # Accuracy\n",
    "    accuracy = (total_TP + total_TN) / (total_TP + total_FP + total_TN + total_FN) * 100\n",
    "    \n",
    "    # Rata-rata tertimbang untuk semua kelas\n",
    "    weighted_avg = {\n",
    "        'Accuracy': accuracy,\n",
    "        'Precision': sum([metrics[cls]['Precision'] * sum(actual == cls) for cls in classes]) / len(actual),\n",
    "        'Recall': sum([metrics[cls]['Recall'] * sum(actual == cls) for cls in classes]) / len(actual),\n",
    "        'F1-score': sum([metrics[cls]['F1-score'] * sum(actual == cls) for cls in classes]) / len(actual),\n",
    "    }\n",
    "    \n",
    "    return weighted_avg\n",
    "\n",
    "# Path ke file CSV\n",
    "file_path = './hasil2stem/Hasil_tweets_negative01.csv'\n",
    "\n",
    "# Hitung metrik evaluasi dari file CSV\n",
    "metrics = calculate_metrics_from_csv(file_path)\n",
    "\n",
    "print(f\"Accuracy: {metrics['Accuracy']:.2f}%\")\n",
    "print(f\"Precision: {metrics['Precision']:.2f}%\")\n",
    "print(f\"Recall: {metrics['Recall']:.2f}%\")\n",
    "print(f\"F1-score: {metrics['F1-score']:.2f}%\")"
   ]
  }
 ],
 "metadata": {
  "kernelspec": {
   "display_name": "Python 3",
   "language": "python",
   "name": "python3"
  },
  "language_info": {
   "codemirror_mode": {
    "name": "ipython",
    "version": 3
   },
   "file_extension": ".py",
   "mimetype": "text/x-python",
   "name": "python",
   "nbconvert_exporter": "python",
   "pygments_lexer": "ipython3",
   "version": "3.11.6"
  }
 },
 "nbformat": 4,
 "nbformat_minor": 2
}
