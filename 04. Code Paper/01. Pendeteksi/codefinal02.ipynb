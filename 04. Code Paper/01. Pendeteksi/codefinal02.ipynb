{
 "cells": [
  {
   "cell_type": "code",
   "execution_count": 1,
   "metadata": {},
   "outputs": [],
   "source": [
    "import csv\n",
    "import re"
   ]
  },
  {
   "cell_type": "code",
   "execution_count": 2,
   "metadata": {},
   "outputs": [],
   "source": [
    "def cek_prefiks(kata):\n",
    "    prefiks = ['ber', 'me', 'di', 'ter', 'ke', 'se', 'pe']\n",
    "\n",
    "    for pref in prefiks:\n",
    "        if kata.startswith(pref):\n",
    "            return pref\n",
    "\n",
    "    return None"
   ]
  },
  {
   "cell_type": "code",
   "execution_count": 3,
   "metadata": {},
   "outputs": [],
   "source": [
    "def cek_sufiks(kata):\n",
    "    sufiks = ['kan', 'an', 'lah', 'nya']\n",
    "\n",
    "    for suf in sufiks:\n",
    "        if kata.endswith(suf):\n",
    "            return suf\n",
    "\n",
    "    return None"
   ]
  },
  {
   "cell_type": "code",
   "execution_count": 4,
   "metadata": {},
   "outputs": [],
   "source": [
    "def cek_infiks(kata):\n",
    "    infiks = ['el', 'em']\n",
    "\n",
    "    for inf in infiks:\n",
    "        if inf in kata:\n",
    "            return inf\n",
    "\n",
    "    return None"
   ]
  },
  {
   "cell_type": "code",
   "execution_count": 5,
   "metadata": {},
   "outputs": [],
   "source": [
    "def cek_konfiks(kata):\n",
    "    konfiks = ['me', 'mem', 'men', 'meng', 'meny', 'pe', 'pem', 'pen', 'peng', 'peny']\n",
    "\n",
    "    for kon in konfiks:\n",
    "        if kata.startswith(kon) and kata.endswith('i'):\n",
    "            return kon + 'i'\n",
    "\n",
    "    return None"
   ]
  },
  {
   "cell_type": "code",
   "execution_count": 6,
   "metadata": {},
   "outputs": [],
   "source": [
    "hapus_kata = []  # Membuat list kosong untuk menyimpan kata-kata yang dihapus\n",
    "\n",
    "with open('03. Daftar Kata baku dan tidak baku/01. kata_tidak_baku.txt', 'w', encoding='utf-8') as clean_file:\n",
    "    with open('03. Daftar Kata baku dan tidak baku/kumpulan_kata_tidak_baku.txt', 'r', encoding='utf-8') as txtfile:\n",
    "        for tweet in txtfile:\n",
    "            kata_kata = re.findall(r'\\w+', tweet)\n",
    "            for kata in kata_kata:\n",
    "                pref = cek_prefiks(kata)\n",
    "                suf = cek_sufiks(kata)\n",
    "                inf = cek_infiks(kata)\n",
    "                kon = cek_konfiks(kata)\n",
    "                if not pref and not suf and not inf and not kon:\n",
    "                    clean_file.write(kata + '\\n')\n",
    "                else:\n",
    "                    hapus_kata.append(kata)  # Menambah kata ke dalam list hapus_kata jika memiliki imbuhan\n",
    "\n",
    "                    print(hapus_kata)"
   ]
  },
  {
   "cell_type": "code",
   "execution_count": null,
   "metadata": {},
   "outputs": [],
   "source": [
    "import nltk\n",
    "from collections import Counter\n",
    "\n",
    "# Membaca file kata tidak baku\n",
    "with open('Hasil1/kata_tidak_baku.txt', 'r', encoding='utf-8') as txtfile:\n",
    "    data_tidak_baku = txtfile.read().splitlines()\n",
    "\n",
    "# Menghitung kata-kata yang sering muncul\n",
    "counter = Counter(data_tidak_baku)\n",
    "kata_tidak_baku_serimg_muncul = counter.most_common()\n",
    "\n",
    "# Menampilkan kata-kata tidak baku yang sering muncul\n",
    "print(\"Kata-kata tidak baku yang sering muncul:\")\n",
    "for kata, frekuensi in kata_tidak_baku_serimg_muncul:\n",
    "    print(f\"{kata}: {frekuensi}\")"
   ]
  }
 ],
 "metadata": {
  "kernelspec": {
   "display_name": "Python 3",
   "language": "python",
   "name": "python3"
  },
  "language_info": {
   "codemirror_mode": {
    "name": "ipython",
    "version": 3
   },
   "file_extension": ".py",
   "mimetype": "text/x-python",
   "name": "python",
   "nbconvert_exporter": "python",
   "pygments_lexer": "ipython3",
   "version": "3.11.6"
  },
  "orig_nbformat": 4
 },
 "nbformat": 4,
 "nbformat_minor": 2
}
