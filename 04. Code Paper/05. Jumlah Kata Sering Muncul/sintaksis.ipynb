{
 "cells": [
  {
   "cell_type": "code",
   "execution_count": 4,
   "metadata": {},
   "outputs": [
    {
     "name": "stderr",
     "output_type": "stream",
     "text": [
      "[nltk_data] Downloading package averaged_perceptron_tagger to\n",
      "[nltk_data]     C:\\Users\\irfan\\AppData\\Roaming\\nltk_data...\n",
      "[nltk_data]   Package averaged_perceptron_tagger is already up-to-\n",
      "[nltk_data]       date!\n",
      "[nltk_data] Downloading package universal_tagset to\n",
      "[nltk_data]     C:\\Users\\irfan\\AppData\\Roaming\\nltk_data...\n",
      "[nltk_data]   Package universal_tagset is already up-to-date!\n",
      "[nltk_data] Downloading package treebank to\n",
      "[nltk_data]     C:\\Users\\irfan\\AppData\\Roaming\\nltk_data...\n",
      "[nltk_data]   Package treebank is already up-to-date!\n"
     ]
    },
    {
     "name": "stdout",
     "output_type": "stream",
     "text": [
      "[('Pierre', 'NOUN'), ('Vinken', 'NOUN'), (',', '.'), ('61', 'NUM'), ('years', 'NOUN'), ('old', 'ADJ'), (',', '.'), ('will', 'VERB'), ('join', 'VERB'), ('the', 'DET')]\n"
     ]
    }
   ],
   "source": [
    "import nltk\n",
    "nltk.download('averaged_perceptron_tagger')\n",
    "nltk.download('universal_tagset')\n",
    "nltk.download('treebank')\n",
    "\n",
    "# Example of accessing tagged words from the Treebank corpus\n",
    "from nltk.corpus import treebank\n",
    "tagged_words = treebank.tagged_words(tagset='universal')\n",
    "print(tagged_words[:10])"
   ]
  },
  {
   "cell_type": "code",
   "execution_count": 5,
   "metadata": {},
   "outputs": [
    {
     "name": "stdout",
     "output_type": "stream",
     "text": [
      "WARNING:tensorflow:From c:\\Users\\irfan\\AppData\\Local\\Programs\\Python\\Python311\\Lib\\site-packages\\keras\\src\\losses.py:2976: The name tf.losses.sparse_softmax_cross_entropy is deprecated. Please use tf.compat.v1.losses.sparse_softmax_cross_entropy instead.\n",
      "\n",
      "This: PRON\n",
      "is: AUX\n",
      "a: DET\n",
      "simple: ADJ\n",
      "example: NOUN\n",
      "sentence: NOUN\n",
      ".: PUNCT\n"
     ]
    }
   ],
   "source": [
    "import spacy\n",
    "nlp = spacy.load(\"en_core_web_sm\")\n",
    "\n",
    "# Process some text\n",
    "text = \"This is a simple example sentence.\"\n",
    "doc = nlp(text)\n",
    "\n",
    "# Extract POS tags\n",
    "for token in doc:\n",
    "    print(f'{token.text}: {token.pos_}')"
   ]
  },
  {
   "cell_type": "code",
   "execution_count": 8,
   "metadata": {},
   "outputs": [
    {
     "name": "stdout",
     "output_type": "stream",
     "text": [
      "File 'syntactic_dictionary.csv' telah dibuat dengan sukses!\n"
     ]
    }
   ],
   "source": [
    "import pandas as pd\n",
    "\n",
    "def parse_conllu(file_path):\n",
    "    sentences = []\n",
    "    with open(file_path, 'r', encoding='utf-8') as f:\n",
    "        sentence = []\n",
    "        for line in f:\n",
    "            if line.startswith('#'):\n",
    "                continue\n",
    "            if line.strip() == '':\n",
    "                if sentence:\n",
    "                    sentences.append(sentence)\n",
    "                    sentence = []\n",
    "            else:\n",
    "                parts = line.split('\\t')\n",
    "                if len(parts) == 10:\n",
    "                    sentence.append((parts[1], parts[3]))  # (word, POS)\n",
    "        if sentence:\n",
    "            sentences.append(sentence)\n",
    "    return sentences\n",
    "\n",
    "# Ganti dengan path ke file UD .conllu\n",
    "file_path = 'id_gsd-ud-train.conllu'\n",
    "sentences = parse_conllu(file_path)\n",
    "\n",
    "# Flatten the list of sentences\n",
    "words = [word for sentence in sentences for word in sentence]\n",
    "\n",
    "# Buat DataFrame\n",
    "df_words = pd.DataFrame(words, columns=['Kata', 'Klasifikasi'])\n",
    "\n",
    "# Simpan ke file CSV\n",
    "df_words.to_csv('syntactic_dictionary.csv', index=False)\n",
    "\n",
    "print(\"File 'syntactic_dictionary.csv' telah dibuat dengan sukses!\")\n"
   ]
  },
  {
   "cell_type": "code",
   "execution_count": null,
   "metadata": {},
   "outputs": [],
   "source": []
  }
 ],
 "metadata": {
  "kernelspec": {
   "display_name": "Python 3",
   "language": "python",
   "name": "python3"
  },
  "language_info": {
   "codemirror_mode": {
    "name": "ipython",
    "version": 3
   },
   "file_extension": ".py",
   "mimetype": "text/x-python",
   "name": "python",
   "nbconvert_exporter": "python",
   "pygments_lexer": "ipython3",
   "version": "3.11.6"
  }
 },
 "nbformat": 4,
 "nbformat_minor": 2
}
